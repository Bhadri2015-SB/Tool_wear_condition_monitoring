{
 "cells": [
  {
   "cell_type": "code",
   "execution_count": 1,
   "id": "a133d2f6",
   "metadata": {},
   "outputs": [],
   "source": [
    "import pickle\n",
    "import pandas as pd"
   ]
  },
  {
   "cell_type": "code",
   "execution_count": 2,
   "id": "15c3dcad",
   "metadata": {},
   "outputs": [],
   "source": [
    "test = pd.read_excel('validation.xlsx')\n",
    "x=test.iloc[1400:1420,0]"
   ]
  },
  {
   "cell_type": "markdown",
   "id": "6f7fef6c",
   "metadata": {},
   "source": [
    "# Loading model"
   ]
  },
  {
   "cell_type": "code",
   "execution_count": 7,
   "id": "f278de6f",
   "metadata": {},
   "outputs": [],
   "source": [
    "mlp_classifier = pickle.load(open(\"mlp_model.sav\", 'rb'))"
   ]
  },
  {
   "cell_type": "markdown",
   "id": "96faee5e",
   "metadata": {},
   "source": [
    "# Prediction"
   ]
  },
  {
   "cell_type": "code",
   "execution_count": 8,
   "id": "d821ccfe",
   "metadata": {},
   "outputs": [],
   "source": [
    "predict=mlp_classifier.predict([x])"
   ]
  },
  {
   "cell_type": "code",
   "execution_count": 9,
   "id": "51fd93c6",
   "metadata": {},
   "outputs": [
    {
     "data": {
      "text/plain": [
       "array(['severe'], dtype='<U6')"
      ]
     },
     "execution_count": 9,
     "metadata": {},
     "output_type": "execute_result"
    }
   ],
   "source": [
    "predict"
   ]
  },
  {
   "cell_type": "code",
   "execution_count": null,
   "id": "5fb505d3",
   "metadata": {},
   "outputs": [],
   "source": []
  }
 ],
 "metadata": {
  "kernelspec": {
   "display_name": "Python 3 (ipykernel)",
   "language": "python",
   "name": "python3"
  },
  "language_info": {
   "codemirror_mode": {
    "name": "ipython",
    "version": 3
   },
   "file_extension": ".py",
   "mimetype": "text/x-python",
   "name": "python",
   "nbconvert_exporter": "python",
   "pygments_lexer": "ipython3",
   "version": "3.10.9"
  }
 },
 "nbformat": 4,
 "nbformat_minor": 5
}
